{
  "nbformat": 4,
  "nbformat_minor": 0,
  "metadata": {
    "colab": {
      "name": "Copy_of_AIAuto2021_L08_ipynb_másolata.ipynb",
      "provenance": [],
      "collapsed_sections": []
    },
    "kernelspec": {
      "name": "python3",
      "display_name": "Python 3"
    },
    "accelerator": "GPU"
  },
  "cells": [
    {
      "cell_type": "markdown",
      "metadata": {
        "id": "Y0Y05HUgLDfG"
      },
      "source": [
        "# **AIAuto L08: Deep learning a steering controller.**\n",
        "v2021.01\n",
        "\n",
        "\n",
        "---\n",
        "\n",
        "Version history:  \n",
        "v2021.01 - initial version\n",
        "\n",
        "---"
      ]
    },
    {
      "cell_type": "markdown",
      "metadata": {
        "id": "FodwTpx92Biy"
      },
      "source": [
        "### **import dependencies**"
      ]
    },
    {
      "cell_type": "code",
      "metadata": {
        "id": "y2V8m2z7KuYz"
      },
      "source": [
        "# Importing necessary libraries\n",
        "import numpy as np                # for linear algebra\n",
        "import tensorflow as tf           # for neural models\n",
        "import time                       # for measuring time\n",
        "import zipfile                    # for handling zip archives\n",
        "import PIL                        # for image handling\n",
        "from keras import backend as K\n",
        "import os"
      ],
      "execution_count": null,
      "outputs": []
    },
    {
      "cell_type": "code",
      "metadata": {
        "id": "xpsubylfPwiY"
      },
      "source": [
        "import matplotlib.pyplot as plt   # for plotting images"
      ],
      "execution_count": null,
      "outputs": []
    },
    {
      "cell_type": "code",
      "metadata": {
        "id": "9n2ulODDPNa_"
      },
      "source": [
        "import pandas as pd\n",
        "import csv"
      ],
      "execution_count": null,
      "outputs": []
    },
    {
      "cell_type": "markdown",
      "metadata": {
        "id": "Opn_AcB72GxI"
      },
      "source": [
        "### get data"
      ]
    },
    {
      "cell_type": "code",
      "metadata": {
        "id": "RvEaXy7Baiot"
      },
      "source": [
        "from google.colab import drive\n",
        "drive.mount('/content/drive')"
      ],
      "execution_count": null,
      "outputs": []
    },
    {
      "cell_type": "code",
      "metadata": {
        "id": "-hEfERMejsoT"
      },
      "source": [
        "%cd /content/drive/MyDrive"
      ],
      "execution_count": null,
      "outputs": []
    },
    {
      "cell_type": "code",
      "metadata": {
        "id": "WwlMV2OKj8QF"
      },
      "source": [
        "!unzip TRAININGOLD3.zip\n",
        "!unzip VALIDATIONOLD3.zip"
      ],
      "execution_count": null,
      "outputs": []
    },
    {
      "cell_type": "code",
      "metadata": {
        "id": "HVjVDw7j7lqz"
      },
      "source": [
        "import cv2\n",
        "image = cv2.imread('/content/drive/MyDrive/Train2/00104846.png')"
      ],
      "execution_count": null,
      "outputs": []
    },
    {
      "cell_type": "code",
      "metadata": {
        "id": "4lW6Vc9k7oHy"
      },
      "source": [
        "plt.imshow(image)"
      ],
      "execution_count": null,
      "outputs": []
    },
    {
      "cell_type": "code",
      "metadata": {
        "id": "ncKSAO4w5BGq"
      },
      "source": [
        "# Definitions\n",
        "TRIM_TOP_PX = 32\n",
        "GRAYSCALE = True\n",
        "IMG_SHAPE = (120-TRIM_TOP_PX, 320, 1 if GRAYSCALE else 3)\n",
        "\n",
        "TRAIN_SET_PATH = '/content/drive/MyDrive/TRAININGOLD3'\n",
        "DEV_SET_PATH = '/content/drive/MyDrive/VALIDATIONOLD3'"
      ],
      "execution_count": null,
      "outputs": []
    },
    {
      "cell_type": "code",
      "metadata": {
        "id": "NQocFouIKRhJ"
      },
      "source": [
        "def plot_images(images):\n",
        "    assert isinstance(images, (list, tuple, np.ndarray))    \n",
        "    cols = min(6, len(images))\n",
        "    rows = 1 + (len(images)-1)//cols\n",
        "    plt.figure(figsize=(3.2*cols, 1.2*rows))\n",
        "    for n, image in enumerate(images):\n",
        "        plt.subplot(rows, cols, n+1)\n",
        "        plt.xticks([], [])\n",
        "        plt.yticks([], [])\n",
        "        # plt.xlabel(f'{pred_titles[n]}', size=14, c='blue')\n",
        "        if image.shape[2] == 1:\n",
        "            image = np.concatenate((image, image, image), axis=2)\n",
        "        plt.imshow(image)\n",
        "    plt.tight_layout()\n",
        "    plt.show()"
      ],
      "execution_count": null,
      "outputs": []
    },
    {
      "cell_type": "code",
      "metadata": {
        "id": "ABWB3nF961cD"
      },
      "source": [
        "FIRST_TRAIN_IMG = \"00104846.png\"\n",
        "\n",
        "image = tf.keras.preprocessing.image.load_img(f\"{TRAIN_SET_PATH}/{FIRST_TRAIN_IMG}\",\n",
        "                                              color_mode=\"grayscale\" if GRAYSCALE else \"rgb\")\n",
        "img_arr = tf.keras.preprocessing.image.img_to_array(image)/255.0\n",
        "img_arr = img_arr[TRIM_TOP_PX:,:,:]\n",
        "\n",
        "img_arr = np.expand_dims(img_arr, axis=0)\n",
        "print(img_arr.shape)\n",
        "plot_images(img_arr)"
      ],
      "execution_count": null,
      "outputs": []
    },
    {
      "cell_type": "code",
      "metadata": {
        "id": "vdnQUo9iD1C3"
      },
      "source": [
        "labels_df = pd.read_csv(f\"{TRAIN_SET_PATH}/control_data.csv\")\n",
        "labels_df.head()"
      ],
      "execution_count": null,
      "outputs": []
    },
    {
      "cell_type": "code",
      "metadata": {
        "colab": {
          "base_uri": "https://localhost:8080/"
        },
        "id": "hgTc5gs6HifZ",
        "outputId": "18f106a4-2c01-4e8b-d467-abd9186d35e6"
      },
      "source": [
        "labels_df.std(axis=0)"
      ],
      "execution_count": null,
      "outputs": [
        {
          "output_type": "execute_result",
          "data": {
            "text/plain": [
              "frame         16231.589902\n",
              "speed             0.023486\n",
              "throttle          0.000000\n",
              "steer             0.031193\n",
              "brake             0.000000\n",
              "hand_brake        0.000000\n",
              "dtype: float64"
            ]
          },
          "metadata": {
            "tags": []
          },
          "execution_count": 12
        }
      ]
    },
    {
      "cell_type": "code",
      "metadata": {
        "id": "TssKldmow4wh"
      },
      "source": [
        "STEER_NORM_FACTOR = 0.05"
      ],
      "execution_count": null,
      "outputs": []
    },
    {
      "cell_type": "code",
      "metadata": {
        "id": "uJ0ZGQXuEoug"
      },
      "source": [
        "def generate_generator(file_path, skip_rows=1):\n",
        "    def fetch_data_pair():\n",
        "        with open(f'{file_path}/control_data.csv', 'r') as csvfile:\n",
        "            data = csv.reader(csvfile, delimiter=',')\n",
        "            for index, row in enumerate(data):\n",
        "                if index < skip_rows:\n",
        "                    continue\n",
        "                image = tf.keras.preprocessing.image.load_img(f'{file_path}/{int(row[0]):08d}.png',\n",
        "                                                              color_mode=\"grayscale\" if GRAYSCALE else \"rgb\")\n",
        "                img_arr = tf.keras.preprocessing.image.img_to_array(image)\n",
        "                img_arr = img_arr[TRIM_TOP_PX:,:,:]\n",
        "                yield img_arr/255.0, float(row[3])/STEER_NORM_FACTOR\n",
        "    return fetch_data_pair"
      ],
      "execution_count": null,
      "outputs": []
    },
    {
      "cell_type": "code",
      "metadata": {
        "id": "vkxe32m2JUj4"
      },
      "source": [
        "train_set = tf.data.Dataset.from_generator(generate_generator(TRAIN_SET_PATH), output_types=(tf.float32, tf.float64),\n",
        "                                           output_shapes=(tf.TensorShape(IMG_SHAPE), tf.TensorShape(())))\n",
        "dev_set = tf.data.Dataset.from_generator(generate_generator(DEV_SET_PATH), output_types=(tf.float32, tf.float64),\n",
        "                                         output_shapes=(tf.TensorShape(IMG_SHAPE), tf.TensorShape(())))"
      ],
      "execution_count": null,
      "outputs": []
    },
    {
      "cell_type": "code",
      "metadata": {
        "id": "TwosaaFbNyX1"
      },
      "source": [
        "for i, (feature, label) in enumerate(train_set.take(500)):\n",
        "    if i%50==0:\n",
        "        plot_images([feature])\n",
        "        print(label.numpy())"
      ],
      "execution_count": null,
      "outputs": []
    },
    {
      "cell_type": "code",
      "metadata": {
        "id": "sWWa89koQL38"
      },
      "source": [
        "# Neural network model\n",
        "def build_model():\n",
        "    model = tf.keras.models.Sequential([\n",
        "        tf.keras.layers.Conv2D(8, (5,5), activation='elu', input_shape=IMG_SHAPE),\n",
        "        tf.keras.layers.MaxPooling2D((2,2)),\n",
        "        tf.keras.layers.Conv2D(16, (3,3), activation='elu'),\n",
        "        tf.keras.layers.MaxPooling2D((2,3)),\n",
        "        tf.keras.layers.Conv2D(16, (3,3), activation='elu'),\n",
        "        tf.keras.layers.Conv2D(16, (3,3), activation='elu'),\n",
        "        tf.keras.layers.MaxPooling2D((2,2)),\n",
        "        tf.keras.layers.Conv2D(16, (3,3), activation='elu'),\n",
        "        tf.keras.layers.MaxPooling2D((2,2)),\n",
        "        tf.keras.layers.Conv2D(8, (3,3), activation='elu'),\n",
        "        tf.keras.layers.Flatten(),\n",
        "        tf.keras.layers.Dense(1, activation='linear', name='LAYER_FINAL_fc')\n",
        "    ])\n",
        "\n",
        "    model.summary()\n",
        "    model.compile(loss='mean_squared_error', optimizer=tf.keras.optimizers.Adam(lr=0.001, decay=0.001),\n",
        "                  metrics=[tf.keras.metrics.RootMeanSquaredError()])\n",
        "    return model"
      ],
      "execution_count": null,
      "outputs": []
    },
    {
      "cell_type": "code",
      "metadata": {
        "id": "YBdXkDgcyMt5"
      },
      "source": [
        "m01 = build_model()"
      ],
      "execution_count": null,
      "outputs": []
    },
    {
      "cell_type": "code",
      "metadata": {
        "id": "teIGNGUFyTBW"
      },
      "source": [
        "history = m01.fit(\n",
        "    train_set.batch(96),\n",
        "    validation_data=dev_set.batch(32),\n",
        "    epochs=30,\n",
        "    verbose=1,\n",
        "    shuffle=True)"
      ],
      "execution_count": null,
      "outputs": []
    },
    {
      "cell_type": "code",
      "metadata": {
        "id": "OETl6gW90Zg1"
      },
      "source": [
        "for i, (feature, label) in enumerate(train_set.take(500)):\n",
        "    if i%50==0:\n",
        "        plot_images([feature])\n",
        "        print(label.numpy())\n",
        "        print(m01.predict(np.expand_dims(feature, axis=0))[0,0])"
      ],
      "execution_count": null,
      "outputs": []
    },
    {
      "cell_type": "code",
      "metadata": {
        "id": "YEfRj0BD2dyE"
      },
      "source": [
        "m01.save('TRAININGOLD3.h5')"
      ],
      "execution_count": null,
      "outputs": []
    },
    {
      "cell_type": "markdown",
      "metadata": {
        "id": "aP_CONVwZYu7"
      },
      "source": [
        "Now you can download the `m01.h5` model manually from the left hand file explorer bar."
      ]
    },
    {
      "cell_type": "code",
      "metadata": {
        "id": "ix0KEv9_IKAn"
      },
      "source": [
        "reconstructed_model = tf.keras.models.load_model(\"Train.h5\")\n",
        "for i, (feature, label) in enumerate(train_set.take(500)):\n",
        "    if i%50==0:\n",
        "        plot_images([feature])\n",
        "        print(label.numpy())\n",
        "        print(reconstructed_model.predict(np.expand_dims(feature, axis=0))[0,0])"
      ],
      "execution_count": null,
      "outputs": []
    },
    {
      "cell_type": "markdown",
      "metadata": {
        "id": "_wW5Xxdu27AZ"
      },
      "source": [
        "https://www.tensorflow.org/install/source#gpu\n",
        "\n",
        "https://towardsdatascience.com/installing-tensorflow-gpu-in-ubuntu-20-04-4ee3ca4cb75d\n",
        "\n",
        "(https://gist.github.com/kmhofmann/cee7c0053da8cc09d62d74a6a4c1c5e4)"
      ]
    }
  ]
}